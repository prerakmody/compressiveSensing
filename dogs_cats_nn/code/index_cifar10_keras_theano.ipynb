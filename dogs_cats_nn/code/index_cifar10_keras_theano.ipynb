{
 "cells": [
  {
   "cell_type": "code",
   "execution_count": 1,
   "metadata": {
    "collapsed": false
   },
   "outputs": [
    {
     "data": {
      "text/plain": [
       "'3.5.2 |Anaconda 4.2.0 (64-bit)| (default, Jul  2 2016, 17:53:06) \\n[GCC 4.4.7 20120313 (Red Hat 4.4.7-1)]'"
      ]
     },
     "execution_count": 1,
     "metadata": {},
     "output_type": "execute_result"
    }
   ],
   "source": [
    "import random\n",
    "import numpy as np\n",
    "\n",
    "fileset_training, fileset_validation = random.sample([1,2,3,4],2)\n",
    "print ('Validation Dataset:', fileset_validation)\n",
    "\n",
    "from index_getdata import getData\n",
    "\n",
    "X_train = []\n",
    "y_train = []\n",
    "train_iter = 0\n",
    "for i in range(1,5):\n",
    "    if i != fileset_validation:\n",
    "        obj_train = getData(verbose=0)\n",
    "        obj_train.get_data_training(i)\n",
    "        X_train_temp = obj_train.X_train\n",
    "        y_train_temp = obj_train.y_train\n",
    "        print ('Raw Data Shapes:', X_train_temp.shape, y_train_temp.shape)\n",
    "\n",
    "        if train_iter == 0:\n",
    "            train_iter += 1\n",
    "            temp_shape = X_train_temp[1].shape\n",
    "            X_train = np.append(X_train_temp, X_train_temp[1].reshape(1, temp_shape[0], temp_shape[1], temp_shape[2]), axis = 0)\n",
    "            temp_shape = y_train_temp[1].shape\n",
    "            y_train = np.append(y_train_temp, y_train_temp[1].reshape(1, temp_shape[0]), axis=0)\n",
    "        else:\n",
    "            X_train = np.append(X_train, X_train_temp, axis=0)\n",
    "            y_train = np.append(y_train, y_train_temp, axis=0)\n",
    "        print ('Final Raw Data Shapes:', X_train.shape, y_train.shape)\n",
    "        \n",
    "    else:\n",
    "        obj_validate = getData(verbose=0)\n",
    "        obj_validate.get_data_training(fileset_validation)\n",
    "        X_validate = obj_validate.X_train\n",
    "        y_validate = obj_validate.y_train\n",
    "        print ('Validation Data Shapes:', X_validate.shape, y_validate.shape)\n"
   ]
  }
 ],
 "metadata": {
  "anaconda-cloud": {},
  "kernelspec": {
   "display_name": "Python [conda root]",
   "language": "python",
   "name": "conda-root-py"
  },
  "language_info": {
   "codemirror_mode": {
    "name": "ipython",
    "version": 3
   },
   "file_extension": ".py",
   "mimetype": "text/x-python",
   "name": "python",
   "nbconvert_exporter": "python",
   "pygments_lexer": "ipython3",
   "version": "3.5.2"
  }
 },
 "nbformat": 4,
 "nbformat_minor": 1
}
