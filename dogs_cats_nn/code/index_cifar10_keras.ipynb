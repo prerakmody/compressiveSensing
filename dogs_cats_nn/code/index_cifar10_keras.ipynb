{
 "cells": [
  {
   "cell_type": "code",
   "execution_count": 3,
   "metadata": {
    "ExecuteTime": {
     "end_time": "2017-08-17T09:20:30.438743Z",
     "start_time": "2017-08-17T09:20:23.532210Z"
    },
    "collapsed": false
   },
   "outputs": [
    {
     "name": "stdout",
     "output_type": "stream",
     "text": [
      "Validation Dataset: 1\n",
      "-------------------------------------------------> Dataset to be pulled: 1\n",
      "Validation Data Shapes: (6250, 1, 100, 100) (6250, 2)\n",
      "-------------------------------------------------> Dataset to be pulled: 2\n",
      "Raw Data Shapes: (6250, 1, 100, 100) (6250, 2)\n",
      "Final Raw Data Shapes: (6251, 1, 100, 100) (6251, 2)\n",
      "-------------------------------------------------> Dataset to be pulled: 3\n",
      "Raw Data Shapes: (6250, 1, 100, 100) (6250, 2)\n",
      "Final Raw Data Shapes: (12501, 1, 100, 100) (12501, 2)\n",
      "-------------------------------------------------> Dataset to be pulled: 4\n",
      "Raw Data Shapes: (6250, 1, 100, 100) (6250, 2)\n",
      "Final Raw Data Shapes: (18751, 1, 100, 100) (18751, 2)\n"
     ]
    }
   ],
   "source": [
    "import random\n",
    "import numpy as np\n",
    "\n",
    "fileset_training, fileset_validation = random.sample([1,2,3,4],2)\n",
    "print ('Validation Dataset:', fileset_validation)\n",
    "\n",
    "from index_getdata import getData\n",
    "\n",
    "X_train = []\n",
    "y_train = []\n",
    "train_iter = 0\n",
    "for i in range(1,5):\n",
    "    if i != fileset_validation:\n",
    "        obj_train = getData(verbose=0)\n",
    "        obj_train.get_data_training(i)\n",
    "        X_train_temp = obj_train.X_train\n",
    "        y_train_temp = obj_train.y_train\n",
    "        print ('Raw Data Shapes:', X_train_temp.shape, y_train_temp.shape)\n",
    "\n",
    "        if train_iter == 0:\n",
    "            train_iter += 1\n",
    "            temp_shape = X_train_temp[1].shape\n",
    "            X_train = np.append(X_train_temp, X_train_temp[1].reshape(1, temp_shape[0], temp_shape[1], temp_shape[2]), axis = 0)\n",
    "            temp_shape = y_train_temp[1].shape\n",
    "            y_train = np.append(y_train_temp, y_train_temp[1].reshape(1, temp_shape[0]), axis=0)\n",
    "        else:\n",
    "            X_train = np.append(X_train, X_train_temp, axis=0)\n",
    "            y_train = np.append(y_train, y_train_temp, axis=0)\n",
    "        print ('Final Raw Data Shapes:', X_train.shape, y_train.shape)\n",
    "        \n",
    "    else:\n",
    "        obj_validate = getData(verbose=0)\n",
    "        obj_validate.get_data_training(fileset_validation)\n",
    "        X_validate = obj_validate.X_train\n",
    "        y_validate = obj_validate.y_train\n",
    "        print ('Validation Data Shapes:', X_validate.shape, y_validate.shape)\n",
    "        "
   ]
  },
  {
   "cell_type": "code",
   "execution_count": 25,
   "metadata": {
    "ExecuteTime": {
     "end_time": "2017-08-17T09:21:07.915664Z",
     "start_time": "2017-08-17T09:21:07.757319Z"
    },
    "collapsed": false
   },
   "outputs": [
    {
     "name": "stdout",
     "output_type": "stream",
     "text": [
      "Idx: 11875\n",
      "Class: [ 0.  1.]\n",
      "cat\n"
     ]
    },
    {
     "data": {
      "image/png": "[encoded data removed]",
      "text/plain": [
       "<matplotlib.figure.Figure at 0x229013dd048>"
      ]
     },
     "metadata": {},
     "output_type": "display_data"
    }
   ],
   "source": [
    "import matplotlib.pyplot as plt\n",
    "%matplotlib inline\n",
    "\n",
    "idx_random = np.random.randint(0, len(X_train))\n",
    "X_train_temp = X_train[idx_random][0]\n",
    "y_train_temp = y_train[idx_random]\n",
    "plt.imshow(X_train_temp, cmap = plt.cm.gray)\n",
    "print ('Idx:', idx_random)\n",
    "print ('Class:', y_train_temp)\n",
    "print ('cat' if y_train_temp[1] == 1 else 'dog')"
   ]
  },
  {
   "cell_type": "code",
   "execution_count": null,
   "metadata": {
    "ExecuteTime": {
     "end_time": "2017-08-17T09:10:28.823871Z",
     "start_time": "2017-08-17T09:10:28.677876Z"
    },
    "collapsed": true
   },
   "outputs": [],
   "source": [
    "# obj_temp = getData(verbose=0)\n",
    "# obj_temp.get_data_training(1)\n",
    "obj_temp.validate_data(1)"
   ]
  },
  {
   "cell_type": "code",
   "execution_count": 26,
   "metadata": {
    "ExecuteTime": {
     "end_time": "2017-08-17T10:46:07.461808Z",
     "start_time": "2017-08-17T09:21:21.935500Z"
    },
    "collapsed": false
   },
   "outputs": [
    {
     "name": "stdout",
     "output_type": "stream",
     "text": [
      "Epoch 1/30\n",
      "18751/18751 [==============================] - 328s - loss: 0.6787 - acc: 0.5666   \n",
      "Epoch 2/30\n",
      "18751/18751 [==============================] - 303s - loss: 0.6454 - acc: 0.6252   \n",
      "Epoch 3/30\n",
      "18751/18751 [==============================] - 307s - loss: 0.6262 - acc: 0.6488   \n",
      "Epoch 4/30\n",
      "18751/18751 [==============================] - 297s - loss: 0.6160 - acc: 0.6578   \n",
      "Epoch 5/30\n",
      "18751/18751 [==============================] - 273s - loss: 0.6053 - acc: 0.6684   \n",
      "Epoch 6/30\n",
      "18751/18751 [==============================] - 344s - loss: 0.5944 - acc: 0.6773   \n",
      "Epoch 7/30\n",
      "18751/18751 [==============================] - 133s - loss: 0.5827 - acc: 0.6876   \n",
      "Epoch 8/30\n",
      "18751/18751 [==============================] - 133s - loss: 0.5708 - acc: 0.7000   \n",
      "Epoch 9/30\n",
      "18751/18751 [==============================] - 133s - loss: 0.5569 - acc: 0.7138   \n",
      "Epoch 10/30\n",
      "18751/18751 [==============================] - 133s - loss: 0.5460 - acc: 0.7186   \n",
      "Epoch 11/30\n",
      "18751/18751 [==============================] - 133s - loss: 0.5309 - acc: 0.7322   \n",
      "Epoch 12/30\n",
      "18751/18751 [==============================] - 133s - loss: 0.5222 - acc: 0.7399   \n",
      "Epoch 13/30\n",
      "18751/18751 [==============================] - 133s - loss: 0.5123 - acc: 0.7463   \n",
      "Epoch 14/30\n",
      "18751/18751 [==============================] - 133s - loss: 0.5049 - acc: 0.7528   \n",
      "Epoch 15/30\n",
      "18751/18751 [==============================] - 133s - loss: 0.4963 - acc: 0.7603   \n",
      "Epoch 16/30\n",
      "18751/18751 [==============================] - 133s - loss: 0.4891 - acc: 0.7646   \n",
      "Epoch 17/30\n",
      "18751/18751 [==============================] - 133s - loss: 0.4821 - acc: 0.7690   \n",
      "Epoch 18/30\n",
      "18751/18751 [==============================] - 133s - loss: 0.4754 - acc: 0.7724   \n",
      "Epoch 19/30\n",
      "18751/18751 [==============================] - 134s - loss: 0.4668 - acc: 0.7785   \n",
      "Epoch 20/30\n",
      "18751/18751 [==============================] - 140s - loss: 0.4555 - acc: 0.7830   \n",
      "Epoch 21/30\n",
      "18751/18751 [==============================] - 144s - loss: 0.4522 - acc: 0.7884   \n",
      "Epoch 22/30\n",
      "18751/18751 [==============================] - 133s - loss: 0.4473 - acc: 0.7899   \n",
      "Epoch 23/30\n",
      "18751/18751 [==============================] - 133s - loss: 0.4404 - acc: 0.7948   \n",
      "Epoch 24/30\n",
      "18751/18751 [==============================] - 133s - loss: 0.4361 - acc: 0.7981   \n",
      "Epoch 25/30\n",
      "18751/18751 [==============================] - 133s - loss: 0.4313 - acc: 0.8005   \n",
      "Epoch 26/30\n",
      "18751/18751 [==============================] - 133s - loss: 0.4236 - acc: 0.8041   \n",
      "Epoch 27/30\n",
      "18751/18751 [==============================] - 133s - loss: 0.4161 - acc: 0.8108   \n",
      "Epoch 28/30\n",
      "18751/18751 [==============================] - 133s - loss: 0.4097 - acc: 0.8130   \n",
      "Epoch 29/30\n",
      "18751/18751 [==============================] - 133s - loss: 0.4038 - acc: 0.8161   \n",
      "Epoch 30/30\n",
      "18751/18751 [==============================] - 133s - loss: 0.3976 - acc: 0.8192   \n"
     ]
    },
    {
     "data": {
      "text/plain": [
       "<keras.callbacks.History at 0x22901b868d0>"
      ]
     },
     "execution_count": 26,
     "metadata": {},
     "output_type": "execute_result"
    }
   ],
   "source": [
    "\"\"\"\n",
    "URL : https://github.com/fchollet/keras/blob/master/examples/cifar10_cnn.py\n",
    "\"\"\"\n",
    "import numpy as np\n",
    "np.random.seed(7)\n",
    "\n",
    "import keras\n",
    "from keras.models import Sequential\n",
    "from keras.layers import Dense, Dropout, Activation, Flatten\n",
    "from keras.layers import Convolution2D as Conv2D, MaxPooling2D\n",
    "from keras.models import model_from_json\n",
    "\n",
    "model = Sequential()\n",
    "model.add((Conv2D(32, (3, 3), padding='same',input_shape=X_train.shape[1:],data_format='channels_first')))\n",
    "model.add(Activation('relu'))\n",
    "model.add(Conv2D(32, (3, 3)))\n",
    "model.add(Activation('relu'))\n",
    "model.add(MaxPooling2D(pool_size=(2, 2)))\n",
    "model.add(Dropout(0.25))\n",
    "\n",
    "model.add(Conv2D(64, (3, 3), padding='same'))\n",
    "model.add(Activation('relu'))\n",
    "model.add(Conv2D(64, (3, 3)))\n",
    "model.add(Activation('relu'))\n",
    "model.add(MaxPooling2D(pool_size=(2, 2)))\n",
    "model.add(Dropout(0.25))\n",
    "\n",
    "model.add(Flatten())\n",
    "model.add(Dense(512))\n",
    "model.add(Activation('relu'))\n",
    "model.add(Dropout(0.5))\n",
    "model.add(Dense(2))\n",
    "model.add(Activation('softmax'))\n",
    "\n",
    "# initiate RMSprop optimizer\n",
    "opt = keras.optimizers.rmsprop(lr=0.0001, decay=1e-6)\n",
    "\n",
    "# Let's train the model using RMSprop\n",
    "model.compile(loss='categorical_crossentropy',optimizer=opt,metrics=['accuracy'])\n",
    "\n",
    "X_train = X_train.astype('float32')\n",
    "X_train /= 255          \n",
    "model.fit(X_train, y_train, batch_size=64, epochs = 30, verbose=1, shuffle=True)"
   ]
  },
  {
   "cell_type": "code",
   "execution_count": 27,
   "metadata": {
    "ExecuteTime": {
     "end_time": "2017-08-17T10:52:01.854288Z",
     "start_time": "2017-08-17T10:51:47.161066Z"
    },
    "collapsed": false
   },
   "outputs": [
    {
     "name": "stdout",
     "output_type": "stream",
     "text": [
      "6250/6250 [==============================] - 14s    \n"
     ]
    },
    {
     "data": {
      "text/plain": [
       "[4.87211407043457, 0.68832000001907345]"
      ]
     },
     "execution_count": 27,
     "metadata": {},
     "output_type": "execute_result"
    }
   ],
   "source": [
    "model.evaluate(X_validate, y_validate, verbose=1)"
   ]
  },
  {
   "cell_type": "code",
   "execution_count": 28,
   "metadata": {
    "ExecuteTime": {
     "end_time": "2017-08-17T10:52:16.574514Z",
     "start_time": "2017-08-17T10:52:16.567499Z"
    },
    "collapsed": false
   },
   "outputs": [
    {
     "data": {
      "text/plain": [
       "['loss', 'acc']"
      ]
     },
     "execution_count": 28,
     "metadata": {},
     "output_type": "execute_result"
    }
   ],
   "source": [
    "model.metrics_names"
   ]
  },
  {
   "cell_type": "code",
   "execution_count": null,
   "metadata": {
    "collapsed": true
   },
   "outputs": [],
   "source": [
    "# serialize model to JSON\n",
    "model_json = model.to_json()\n",
    "filename = 'index_cifar10_keras'\n",
    "with open(filename + \".json\", \"w\") as json_file:\n",
    "    json_file.write(model_json)\n",
    "# serialize weights to HDF5\n",
    "model.save_weights(filename + \".h5\")\n",
    "print(\"Saved model to disk\")\n",
    "\n",
    "# load json and create model\n",
    "json_file = open(filename + '.json', 'r')\n",
    "loaded_model_json = json_file.read()\n",
    "json_file.close()\n",
    "loaded_model = model_from_json(loaded_model_json)\n",
    "# load weights into new model\n",
    "loaded_model.load_weights(filename + \".h5\")\n",
    "print(\"Loaded model from disk\")\n",
    "\n",
    "# evaluate loaded model on test data\n",
    "loaded_model.compile(loss='binary_crossentropy', optimizer='rmsprop', metrics=['accuracy'])\n",
    "score = loaded_model.evaluate(X, Y, verbose=0)\n",
    "print(\"%s: %.2f%%\" % (loaded_model.metrics_names[1], score[1]*100))"
   ]
  }
 ],
 "metadata": {
  "anaconda-cloud": {},
  "kernelspec": {
   "display_name": "Python [default]",
   "language": "python",
   "name": "python3"
  },
  "language_info": {
   "codemirror_mode": {
    "name": "ipython",
    "version": 3
   },
   "file_extension": ".py",
   "mimetype": "text/x-python",
   "name": "python",
   "nbconvert_exporter": "python",
   "pygments_lexer": "ipython3",
   "version": "3.5.2"
  }
 },
 "nbformat": 4,
 "nbformat_minor": 2
}
