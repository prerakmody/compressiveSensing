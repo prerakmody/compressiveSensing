{
 "cells": [
  {
   "cell_type": "code",
   "execution_count": null,
   "metadata": {
    "collapsed": false
   },
   "outputs": [],
   "source": [
    "\"\"\"\n",
    "URL : mmlab.ie.cuhk.edu.hk/projects/SRCNN/SRCNN_train.zip\n",
    "\"\"\"\n",
    "import os\n",
    "import joblib\n",
    "import numpy as np\n",
    "from tqdm import tqdm, trange\n",
    "import scipy.ndimage as spimg\n",
    "import matplotlib.pyplot as plt\n",
    "from sklearn.feature_extraction import image\n",
    "\n",
    "np.random.seed(7)\n",
    "%matplotlib inline\n",
    "\n",
    "def get_data(url_local, filename_alldata, filename_phi, plt_show=True): \n",
    "    objs = []\n",
    "    idx_rand = np.random.randint(0, len(os.listdir(url_local)))\n",
    "    if plt_show : f, axarr = plt.subplots(1,2)\n",
    "        \n",
    "    for i, file in enumerate(os.listdir(url_local)) : \n",
    "        obj = spimg.imread(url_local + '/' + file, flatten=True, mode = 'L')\n",
    "        if i == idx_rand:\n",
    "            print ('1. Image Shape:', obj.shape)\n",
    "            \n",
    "        obj_patches = image.extract_patches_2d(obj, (33, 33), max_patches=250)\n",
    "        for j, obj_patch in enumerate(obj_patches):\n",
    "            objs.append(obj_patch)\n",
    "            if i == idx_rand and j == idx_rand:\n",
    "                print ('1. Patch Shape:', obj_patch.shape)\n",
    "                if plt_show : \n",
    "                    axarr[0].imshow(obj, cmap = plt.cm.gray)\n",
    "                    axarr[1].imshow(obj_patches[0], cmap = plt.cm.gray)\n",
    "    \n",
    "    print ('1. Total Data Patches:', len(objs))\n",
    "    with open(filename_alldata, 'wb') as handle:\n",
    "        joblib.dump(objs, handle, compress=True)\n",
    "    \n",
    "    phi = np.random.choice([0, 1], size=(1, 33 * 33), p=[0.3, 0.7])\n",
    "    with open(filename_phi, 'wb') as handle:\n",
    "        joblib.dump(phi, handle, compress=True)\n",
    "\n",
    "def get_data_transform(url_file, url_filename_alldata, url_filename_phi, url_filename_X, url_filename_y, test=0):\n",
    "    with open(url_file + '/' + url_filename_alldata, 'rb') as handle:\n",
    "        data_patches = joblib.load(handle)\n",
    "    \n",
    "    with open(url_file + '/' + url_filename_phi, 'rb') as handle:\n",
    "        phi = joblib.load(handle)\n",
    "        \n",
    "    X = []; y = []\n",
    "    # pbar = tqdm(total=len(data_patches))\n",
    "    if test : \n",
    "        pbar = np.arange(len(data_patches))\n",
    "        rand_idx = 0\n",
    "    else:\n",
    "        pbar = trange(len(data_patches))\n",
    "        rand_idx = np.random.randint(0, len(data_patches))\n",
    "\n",
    "    for i in pbar:\n",
    "        data_patch = data_patches[i]\n",
    "        y_temp = data_patch.reshape((1, data_patch.shape[0] * data_patch.shape[1]))\n",
    "        X_temp = y_temp * phi\n",
    "        if (test == 1) and (i == rand_idx):\n",
    "            print ('2. Original Data Shape(y): ', data_patch.shape)\n",
    "            print ('2. Reshaped Data Shape(y): ', y_temp.shape)\n",
    "            print ('2. Reshaped Data Shape(X): ', X_temp.shape)\n",
    "        if i == rand_idx:\n",
    "            f, axarr = plt.subplots(1,2)\n",
    "            axarr[0].imshow(y_temp.reshape((33,33)), cmap = plt.cm.gray)\n",
    "            axarr[1].imshow(X_temp.reshape((33,33)), cmap = plt.cm.gray)\n",
    "            \n",
    "        if i == 0:\n",
    "            y = y_temp\n",
    "            X = X_temp\n",
    "        else:\n",
    "            y = np.append(y, y_temp, axis = 0)\n",
    "            X = np.append(X, X_temp, axis = 0)\n",
    "        if i > 100 and test == 1:\n",
    "            break\n",
    "    \n",
    "    print ('2. X:', X.shape, ' y:', y.shape)\n",
    "\n",
    "    with open(url_file + '/' + url_filename_X, 'wb') as handle:\n",
    "        joblib.dump(X, handle, compress=True)\n",
    "    with open(url_file + '/' + url_filename_y, 'wb') as handle:\n",
    "        joblib.dump(y, handle, compress=True)\n",
    "\n",
    "    \n",
    "\n",
    "if __name__ == \"__main__\":\n",
    "    url_file = os.getcwd()\n",
    "    url_local = url_file + '/data/original/SRCNN/Train/'\n",
    "    url_filename_alldata = 'data/data_patches.gz'\n",
    "    url_filename_phi = 'data/data_phi.gz'\n",
    "    url_filename_X = 'data/data_patches_X.gz'\n",
    "    url_filename_y = 'data/data_patches_y.gz'\n",
    "    \n",
    "    # get_data(url_local, url_filename_alldata, url_filename_phi)\n",
    "    get_data_transform(url_file, url_filename_alldata, url_filename_phi, url_filename_X, url_filename_y, test=0)"
   ]
  },
  {
   "cell_type": "code",
   "execution_count": 1,
   "metadata": {
    "collapsed": false
   },
   "outputs": [
    {
     "name": "stderr",
     "output_type": "stream",
     "text": [
      "WARNING (theano.sandbox.cuda): The cuda backend is deprecated and will be removed in the next release (v0.10).  Please switch to the gpuarray backend. You can get more information about how to switch at this URL:\n",
      " https://github.com/Theano/Theano/wiki/Converting-to-the-new-gpu-back-end%28gpuarray%29\n",
      "\n"
     ]
    },
    {
     "name": "stdout",
     "output_type": "stream",
     "text": [
      "0.9.0\n"
     ]
    },
    {
     "name": "stderr",
     "output_type": "stream",
     "text": [
      "Using gpu device 0: GeForce 940MX (CNMeM is enabled with initial size: 70.0% of memory, cuDNN Can not compile with cuDNN. We got this error:\n",
      "b'/tmp/try_flags_8156sqi5.c:5:19: fatal error: cudnn.h: No such file or directory\\ncompilation terminated.\\n')\n"
     ]
    }
   ],
   "source": [
    "import theano\n",
    "print (theano.__version__)"
   ]
  }
 ],
 "metadata": {
  "anaconda-cloud": {},
  "kernelspec": {
   "display_name": "Python [conda root]",
   "language": "python",
   "name": "conda-root-py"
  },
  "language_info": {
   "codemirror_mode": {
    "name": "ipython",
    "version": 3
   },
   "file_extension": ".py",
   "mimetype": "text/x-python",
   "name": "python",
   "nbconvert_exporter": "python",
   "pygments_lexer": "ipython3",
   "version": "3.5.2"
  }
 },
 "nbformat": 4,
 "nbformat_minor": 1
}
